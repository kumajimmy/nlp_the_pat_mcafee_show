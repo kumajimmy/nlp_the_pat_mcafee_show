{
 "cells": [
  {
   "cell_type": "markdown",
   "metadata": {},
   "source": [
    "## NLP Project for The Pat McAfee Show Livestream\n",
    "\n",
    "\n"
   ]
  },
  {
   "cell_type": "markdown",
   "metadata": {},
   "source": [
    "### Import required libraries and Youtube API setup"
   ]
  },
  {
   "cell_type": "code",
   "execution_count": 4,
   "metadata": {},
   "outputs": [],
   "source": [
    "import googleapiclient.discovery\n",
    "import re\n",
    "import pandas as pd\n",
    "import seaborn as sns\n",
    "import matplotlib.pyplot as plt\n",
    "import creds\n",
    "\n",
    "playlist_id = \"PLeBO0zY8b9XkbJgjfxGlCVCGc0ve8wQj2\"\n",
    "youtube = googleapiclient.discovery.build('youtube','v3', developerKey=creds.api_key)"
   ]
  },
  {
   "cell_type": "markdown",
   "metadata": {},
   "source": [
    "### Data Collection utilizing Youtube Data API"
   ]
  },
  {
   "cell_type": "code",
   "execution_count": 5,
   "metadata": {},
   "outputs": [],
   "source": [
    "def get_video_list(youtube, playlist_id):\n",
    "    \"\"\"\n",
    "    Inputs:\n",
    "        youtube - youtube instance to connect to Youtube Data API\n",
    "        playlist_id - unique id for any given playlist on Youtube\n",
    "    Outputs:\n",
    "        video_list - list of all available videoId in given playlist_id\n",
    "    \"\"\"\n",
    "    video_list = []\n",
    "    request = youtube.playlistItems().list(\n",
    "        part='contentDetails',\n",
    "        playlistId=playlist_id,\n",
    "        maxResults=50\n",
    "    )\n",
    "    next_page = True\n",
    "    while next_page:\n",
    "        response = request.execute()\n",
    "        data = response['items']\n",
    "\n",
    "        for video in data:\n",
    "            video_id = video['contentDetails']['videoId']\n",
    "\n",
    "            if video_id not in video_list:\n",
    "                video_list.append(video_id)\n",
    "\n",
    "        # more pages?\n",
    "        if 'nextPageToken' in response.keys():\n",
    "            request = youtube.playlistItems().list(\n",
    "                part='contentDetails',\n",
    "                playlistId=playlist_id,\n",
    "                pageToken=response['nextPageToken'],\n",
    "                maxResults=50\n",
    "            )\n",
    "        else:\n",
    "            next_page = False\n",
    "\n",
    "    return video_list"
   ]
  },
  {
   "cell_type": "code",
   "execution_count": 6,
   "metadata": {},
   "outputs": [
    {
     "name": "stdout",
     "output_type": "stream",
     "text": [
      "740\n"
     ]
    }
   ],
   "source": [
    "# grab all videoId of all videos from The Pat McAfee Show \n",
    "pms_live_list = get_video_list(youtube,playlist_id)\n",
    "\n",
    "print(len(pms_live_list))"
   ]
  },
  {
   "cell_type": "code",
   "execution_count": 8,
   "metadata": {},
   "outputs": [],
   "source": [
    "def video_details(youtube, video_list):\n",
    "    \"\"\"\n",
    "    Inputs:\n",
    "        youtube - youtube instance to connect to Youtube Data API\n",
    "        video_list - list of all available videoId in given playlist_id\n",
    "    Outputs:\n",
    "        video_stats - a list of dictionaries including title, date/time when video was published, view count, and like count of all videos in given video_list\n",
    "    \"\"\"\n",
    "    video_stats = []\n",
    "\n",
    "    for i in range(0, len(video_list), 50):\n",
    "        request = youtube.videos().list(\n",
    "            part = 'snippet,statistics',\n",
    "            id = video_list[i:i+50] # first time through, will execute for videos at indices 0-49, and keeps looping by 50 (ie second time through 50-99), etc\n",
    "        )\n",
    "\n",
    "        data = request.execute()\n",
    "\n",
    "        for video in data['items']:\n",
    "            title = video['snippet']['title']\n",
    "            publish = video['snippet']['publishedAt']\n",
    "            view_count = video['statistics']['viewCount']\n",
    "            like_count = video['statistics']['likeCount']\n",
    "\n",
    "            video_dict = dict(\n",
    "                title = title,\n",
    "                publish = publish,\n",
    "                view_count = view_count,\n",
    "                like_count = like_count\n",
    "            )\n",
    "\n",
    "            video_stats.append(video_dict)\n",
    "    \n",
    "    return video_stats "
   ]
  },
  {
   "cell_type": "code",
   "execution_count": 9,
   "metadata": {},
   "outputs": [],
   "source": [
    "pms_live_daily_data = video_details(youtube, pms_live_list)"
   ]
  },
  {
   "cell_type": "markdown",
   "metadata": {},
   "source": [
    "### Data Cleaning Pt.1"
   ]
  },
  {
   "cell_type": "code",
   "execution_count": 25,
   "metadata": {},
   "outputs": [
    {
     "data": {
      "text/html": [
       "<div>\n",
       "<style scoped>\n",
       "    .dataframe tbody tr th:only-of-type {\n",
       "        vertical-align: middle;\n",
       "    }\n",
       "\n",
       "    .dataframe tbody tr th {\n",
       "        vertical-align: top;\n",
       "    }\n",
       "\n",
       "    .dataframe thead th {\n",
       "        text-align: right;\n",
       "    }\n",
       "</style>\n",
       "<table border=\"1\" class=\"dataframe\">\n",
       "  <thead>\n",
       "    <tr style=\"text-align: right;\">\n",
       "      <th></th>\n",
       "      <th>title</th>\n",
       "      <th>publish</th>\n",
       "      <th>view_count</th>\n",
       "      <th>like_count</th>\n",
       "    </tr>\n",
       "  </thead>\n",
       "  <tbody>\n",
       "    <tr>\n",
       "      <th>0</th>\n",
       "      <td>The Pat McAfee Show | Wednesday August 24th 2022</td>\n",
       "      <td>2022-08-24 13:45:33+00:00</td>\n",
       "      <td>42420</td>\n",
       "      <td>2090</td>\n",
       "    </tr>\n",
       "    <tr>\n",
       "      <th>1</th>\n",
       "      <td>The Pat McAfee Show | Tuesday August 23rd 2022</td>\n",
       "      <td>2022-08-23 19:26:20+00:00</td>\n",
       "      <td>249983</td>\n",
       "      <td>4972</td>\n",
       "    </tr>\n",
       "    <tr>\n",
       "      <th>2</th>\n",
       "      <td>The Pat McAfee Show | Monday August 22nd 2022</td>\n",
       "      <td>2022-08-22 20:04:16+00:00</td>\n",
       "      <td>317445</td>\n",
       "      <td>5730</td>\n",
       "    </tr>\n",
       "    <tr>\n",
       "      <th>3</th>\n",
       "      <td>The Pat McAfee Show | Friday August 19th 2022</td>\n",
       "      <td>2022-08-19 19:11:01+00:00</td>\n",
       "      <td>280875</td>\n",
       "      <td>4550</td>\n",
       "    </tr>\n",
       "    <tr>\n",
       "      <th>4</th>\n",
       "      <td>The Pat McAfee Show | Thursday August 18th 2022</td>\n",
       "      <td>2022-08-18 19:55:45+00:00</td>\n",
       "      <td>326126</td>\n",
       "      <td>5426</td>\n",
       "    </tr>\n",
       "  </tbody>\n",
       "</table>\n",
       "</div>"
      ],
      "text/plain": [
       "                                              title                   publish  \\\n",
       "0  The Pat McAfee Show | Wednesday August 24th 2022 2022-08-24 13:45:33+00:00   \n",
       "1    The Pat McAfee Show | Tuesday August 23rd 2022 2022-08-23 19:26:20+00:00   \n",
       "2     The Pat McAfee Show | Monday August 22nd 2022 2022-08-22 20:04:16+00:00   \n",
       "3     The Pat McAfee Show | Friday August 19th 2022 2022-08-19 19:11:01+00:00   \n",
       "4   The Pat McAfee Show | Thursday August 18th 2022 2022-08-18 19:55:45+00:00   \n",
       "\n",
       "   view_count  like_count  \n",
       "0       42420        2090  \n",
       "1      249983        4972  \n",
       "2      317445        5730  \n",
       "3      280875        4550  \n",
       "4      326126        5426  "
      ]
     },
     "execution_count": 25,
     "metadata": {},
     "output_type": "execute_result"
    }
   ],
   "source": [
    "pms_df = pd.DataFrame(pms_live_daily_data)\n",
    "\n",
    "pms_df['view_count'] = pd.to_numeric(pms_df.view_count)\n",
    "pms_df['like_count'] = pd.to_numeric(pms_df.like_count)\n",
    "pms_df['publish'] = pd.to_datetime(pms_df.publish)\n",
    "\n",
    "pms_df.head()\n"
   ]
  },
  {
   "cell_type": "code",
   "execution_count": 26,
   "metadata": {},
   "outputs": [
    {
     "name": "stdout",
     "output_type": "stream",
     "text": [
      "<class 'pandas.core.frame.DataFrame'>\n",
      "RangeIndex: 740 entries, 0 to 739\n",
      "Data columns (total 4 columns):\n",
      " #   Column      Non-Null Count  Dtype              \n",
      "---  ------      --------------  -----              \n",
      " 0   title       740 non-null    object             \n",
      " 1   publish     740 non-null    datetime64[ns, UTC]\n",
      " 2   view_count  740 non-null    int64              \n",
      " 3   like_count  740 non-null    int64              \n",
      "dtypes: datetime64[ns, UTC](1), int64(2), object(1)\n",
      "memory usage: 23.2+ KB\n"
     ]
    }
   ],
   "source": [
    "pms_df.info()"
   ]
  },
  {
   "cell_type": "code",
   "execution_count": 27,
   "metadata": {},
   "outputs": [
    {
     "data": {
      "text/html": [
       "<div>\n",
       "<style scoped>\n",
       "    .dataframe tbody tr th:only-of-type {\n",
       "        vertical-align: middle;\n",
       "    }\n",
       "\n",
       "    .dataframe tbody tr th {\n",
       "        vertical-align: top;\n",
       "    }\n",
       "\n",
       "    .dataframe thead th {\n",
       "        text-align: right;\n",
       "    }\n",
       "</style>\n",
       "<table border=\"1\" class=\"dataframe\">\n",
       "  <thead>\n",
       "    <tr style=\"text-align: right;\">\n",
       "      <th></th>\n",
       "      <th>title</th>\n",
       "      <th>publish</th>\n",
       "      <th>view_count</th>\n",
       "      <th>like_count</th>\n",
       "      <th>day_of_week</th>\n",
       "      <th>day_name</th>\n",
       "    </tr>\n",
       "  </thead>\n",
       "  <tbody>\n",
       "    <tr>\n",
       "      <th>0</th>\n",
       "      <td>The Pat McAfee Show | Wednesday August 24th 2022</td>\n",
       "      <td>2022-08-24 13:45:33+00:00</td>\n",
       "      <td>42420</td>\n",
       "      <td>2090</td>\n",
       "      <td>2</td>\n",
       "      <td>Wednesday</td>\n",
       "    </tr>\n",
       "    <tr>\n",
       "      <th>1</th>\n",
       "      <td>The Pat McAfee Show | Tuesday August 23rd 2022</td>\n",
       "      <td>2022-08-23 19:26:20+00:00</td>\n",
       "      <td>249983</td>\n",
       "      <td>4972</td>\n",
       "      <td>1</td>\n",
       "      <td>Tuesday</td>\n",
       "    </tr>\n",
       "    <tr>\n",
       "      <th>2</th>\n",
       "      <td>The Pat McAfee Show | Monday August 22nd 2022</td>\n",
       "      <td>2022-08-22 20:04:16+00:00</td>\n",
       "      <td>317445</td>\n",
       "      <td>5730</td>\n",
       "      <td>0</td>\n",
       "      <td>Monday</td>\n",
       "    </tr>\n",
       "    <tr>\n",
       "      <th>3</th>\n",
       "      <td>The Pat McAfee Show | Friday August 19th 2022</td>\n",
       "      <td>2022-08-19 19:11:01+00:00</td>\n",
       "      <td>280875</td>\n",
       "      <td>4550</td>\n",
       "      <td>4</td>\n",
       "      <td>Friday</td>\n",
       "    </tr>\n",
       "    <tr>\n",
       "      <th>4</th>\n",
       "      <td>The Pat McAfee Show | Thursday August 18th 2022</td>\n",
       "      <td>2022-08-18 19:55:45+00:00</td>\n",
       "      <td>326126</td>\n",
       "      <td>5426</td>\n",
       "      <td>3</td>\n",
       "      <td>Thursday</td>\n",
       "    </tr>\n",
       "  </tbody>\n",
       "</table>\n",
       "</div>"
      ],
      "text/plain": [
       "                                              title                   publish  \\\n",
       "0  The Pat McAfee Show | Wednesday August 24th 2022 2022-08-24 13:45:33+00:00   \n",
       "1    The Pat McAfee Show | Tuesday August 23rd 2022 2022-08-23 19:26:20+00:00   \n",
       "2     The Pat McAfee Show | Monday August 22nd 2022 2022-08-22 20:04:16+00:00   \n",
       "3     The Pat McAfee Show | Friday August 19th 2022 2022-08-19 19:11:01+00:00   \n",
       "4   The Pat McAfee Show | Thursday August 18th 2022 2022-08-18 19:55:45+00:00   \n",
       "\n",
       "   view_count  like_count  day_of_week   day_name  \n",
       "0       42420        2090            2  Wednesday  \n",
       "1      249983        4972            1    Tuesday  \n",
       "2      317445        5730            0     Monday  \n",
       "3      280875        4550            4     Friday  \n",
       "4      326126        5426            3   Thursday  "
      ]
     },
     "execution_count": 27,
     "metadata": {},
     "output_type": "execute_result"
    }
   ],
   "source": [
    "pms_df['day_of_week']=pms_df['publish'].dt.day_of_week\n",
    "pms_df['day_name'] = pms_df['publish'].dt.day_name()\n",
    "\n",
    "\n",
    "pms_df.head()"
   ]
  },
  {
   "cell_type": "code",
   "execution_count": 28,
   "metadata": {},
   "outputs": [],
   "source": [
    "pms_df.to_csv('data/pms_daily_cleaned_df.csv')"
   ]
  },
  {
   "cell_type": "markdown",
   "metadata": {},
   "source": [
    "### Data Visualization Pt.1 - The Pat McAfee Show (Daily Youtube Livestream and SIRIUS XM Radio Channel 82)"
   ]
  },
  {
   "cell_type": "code",
   "execution_count": null,
   "metadata": {},
   "outputs": [],
   "source": []
  }
 ],
 "metadata": {
  "kernelspec": {
   "display_name": "Python 3.9.5 ('nlp_pms': venv)",
   "language": "python",
   "name": "python3"
  },
  "language_info": {
   "codemirror_mode": {
    "name": "ipython",
    "version": 3
   },
   "file_extension": ".py",
   "mimetype": "text/x-python",
   "name": "python",
   "nbconvert_exporter": "python",
   "pygments_lexer": "ipython3",
   "version": "3.9.5"
  },
  "orig_nbformat": 4,
  "vscode": {
   "interpreter": {
    "hash": "d41091416febd47a4d08451bdd2a5681b440a0c8fb42bfe1da4f01167247f4c8"
   }
  }
 },
 "nbformat": 4,
 "nbformat_minor": 2
}
